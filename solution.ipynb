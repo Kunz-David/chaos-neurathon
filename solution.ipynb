{
 "cells": [
  {
   "cell_type": "markdown",
   "id": "ba16b60cc9af8ef0",
   "metadata": {},
   "source": [
    "Run main from solution folder"
   ]
  },
  {
   "cell_type": "code",
   "execution_count": null,
   "id": "7baec4cd-557a-4b1a-b55b-ba96ec31fd3b",
   "metadata": {},
   "outputs": [],
   "source": [
    "!python main.py \"confs/all.yml\" \"experiment_name\""
   ]
  }
 ],
 "metadata": {
  "environment": {
   "kernel": "python3",
   "name": "pytorch-gpu.1-13.m108",
   "type": "gcloud",
   "uri": "gcr.io/deeplearning-platform-release/pytorch-gpu.1-13:m108"
  },
  "kernelspec": {
   "display_name": "Python 3",
   "language": "python",
   "name": "python3"
  },
  "language_info": {
   "codemirror_mode": {
    "name": "ipython",
    "version": 3
   },
   "file_extension": ".py",
   "mimetype": "text/x-python",
   "name": "python",
   "nbconvert_exporter": "python",
   "pygments_lexer": "ipython3",
   "version": "3.7.12"
  }
 },
 "nbformat": 4,
 "nbformat_minor": 5
}
